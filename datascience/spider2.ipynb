{
 "cells": [
  {
   "cell_type": "code",
   "execution_count": 1,
   "metadata": {},
   "outputs": [],
   "source": [
    "from dputils.scrape import extract_many, get_webpage_data"
   ]
  },
  {
   "cell_type": "code",
   "execution_count": 2,
   "metadata": {},
   "outputs": [],
   "source": [
    "url = \"https://www.flipkart.com/search?q=mobiles&otracker=search&otracker1=search&marketplace=FLIPKART&as-show=on&as=off\"\n",
    "soup = get_webpage_data(url)"
   ]
  },
  {
   "cell_type": "code",
   "execution_count": 4,
   "metadata": {},
   "outputs": [],
   "source": [
    "target = {\n",
    "'tag': 'div',\n",
    "'attrs':{'class':'_1YokD2 _3Mn1Gg'}\n",
    "}\n",
    "items = {\n",
    "    'tag': 'div',\n",
    "    'attrs':{'class':'_1AtVbE col-12-12'}\n",
    "}\n",
    "title = {\n",
    "    'tag': 'div',\n",
    "    'attrs':{'class':'_4rR01T'}\n",
    "}\n",
    "price = {\n",
    "    'tag': 'div',\n",
    "    'attrs':{'class':'_30jeq3 _1_WHN1'}\n",
    "}\n",
    "rating = {\n",
    "    'tag': 'div',\n",
    "    'attrs':{'class':'_3LWZlK'}\n",
    "}\n",
    "link = {\n",
    "    'tag': 'a',\n",
    "    'attrs':{'class':'_1fQZEK'},\n",
    "    'output':'href'\n",
    "}"
   ]
  },
  {
   "cell_type": "code",
   "execution_count": 5,
   "metadata": {},
   "outputs": [
    {
     "name": "stdout",
     "output_type": "stream",
     "text": [
      "26 items found\n",
      "Item skipped at index: 18\n",
      "Item skipped at index: 24\n",
      "Item skipped at index: 25\n",
      "All items extracted\n"
     ]
    }
   ],
   "source": [
    "out= extract_many(soup, target=target, items=items, title=title, price=price, rating=rating, link=link)"
   ]
  },
  {
   "cell_type": "code",
   "execution_count": 6,
   "metadata": {},
   "outputs": [
    {
     "name": "stdout",
     "output_type": "stream",
     "text": [
      "[{'title': 'SAMSUNG Galaxy F22 (Denim Black, 64 GB)', 'price': '₹10,499', 'rating': '4.3', 'link': '/samsung-galaxy-f22-denim-black-64-gb/p/itm6f47a19cb79ae?pid=MOBG43UGC3PYCBZF&lid=LSTMOBG43UGC3PYCBZFSIRYTE&marketplace=FLIPKART&q=mobiles&store=tyy%2F4io&srno=s_1_1&otracker=search&otracker1=search&fm=organic&iid=3444a8c7-401c-4b4c-9ed0-4b587892149a.MOBG43UGC3PYCBZF.SEARCH&ppt=None&ppn=None&ssid=4utl6ouqio0000001662642844010&qH=eb4af0bf07c16429'}, {'title': 'SAMSUNG Galaxy F22 (Denim Blue, 64 GB)', 'price': '₹10,499', 'rating': '4.3', 'link': '/samsung-galaxy-f22-denim-blue-64-gb/p/itmce0a6baf0d54d?pid=MOBG43UGBTGGB99V&lid=LSTMOBG43UGBTGGB99VLZACSD&marketplace=FLIPKART&q=mobiles&store=tyy%2F4io&srno=s_1_2&otracker=search&otracker1=search&fm=organic&iid=3444a8c7-401c-4b4c-9ed0-4b587892149a.MOBG43UGBTGGB99V.SEARCH&ppt=None&ppn=None&ssid=4utl6ouqio0000001662642844010&qH=eb4af0bf07c16429'}, {'title': 'SAMSUNG Galaxy F22 (Denim Blue, 128 GB)', 'price': '₹12,499', 'rating': '4.3', 'link': '/samsung-galaxy-f22-denim-blue-128-gb/p/itm30c755943bea0?pid=MOBG43UGRSMJXTMH&lid=LSTMOBG43UGRSMJXTMH8AUDHE&marketplace=FLIPKART&q=mobiles&store=tyy%2F4io&srno=s_1_3&otracker=search&otracker1=search&fm=organic&iid=3444a8c7-401c-4b4c-9ed0-4b587892149a.MOBG43UGRSMJXTMH.SEARCH&ppt=None&ppn=None&ssid=4utl6ouqio0000001662642844010&qH=eb4af0bf07c16429'}, {'title': 'Good One FLIP', 'price': '₹1,399', 'rating': '4.1', 'link': '/good-one-flip/p/itma3527071661c8?pid=MOBG9G5HARY8HW8W&lid=LSTMOBG9G5HARY8HW8WPCSCCR&marketplace=FLIPKART&q=mobiles&store=tyy%2F4io&srno=s_1_4&otracker=search&otracker1=search&fm=organic&iid=en_6iSa8JdyJXwYHb2bjVK6VIhwXUcR3XFeyy3C22tEwiHBcS0e12LiC8bzQeTXbURR%2B6vpzuMOURMMMjR7MPPIbg%3D%3D&ppt=None&ppn=None&ssid=4utl6ouqio0000001662642844010&qH=eb4af0bf07c16429'}, {'title': 'realme Narzo 50A (Oxygen Blue, 64 GB)', 'price': '₹11,499', 'rating': '4.4', 'link': '/realme-narzo-50a-oxygen-blue-64-gb/p/itm81d679403c2b4?pid=MOBG6MY4UGGFQWYY&lid=LSTMOBG6MY4UGGFQWYYY23BSG&marketplace=FLIPKART&q=mobiles&store=tyy%2F4io&srno=s_1_5&otracker=search&otracker1=search&fm=organic&iid=3444a8c7-401c-4b4c-9ed0-4b587892149a.MOBG6MY4UGGFQWYY.SEARCH&ppt=None&ppn=None&ssid=4utl6ouqio0000001662642844010&qH=eb4af0bf07c16429'}, {'title': 'Nokia 105 SS', 'price': '₹1,299', 'rating': '4.1', 'link': '/nokia-105-ss/p/itm9ac157d27f741?pid=MOBGC96FVTHVNXNH&lid=LSTMOBGC96FVTHVNXNHGPCV73&marketplace=FLIPKART&q=mobiles&store=tyy%2F4io&srno=s_1_6&otracker=search&otracker1=search&fm=organic&iid=3444a8c7-401c-4b4c-9ed0-4b587892149a.MOBGC96FVTHVNXNH.SEARCH&ppt=None&ppn=None&ssid=4utl6ouqio0000001662642844010&qH=eb4af0bf07c16429'}, {'title': 'SAMSUNG Galaxy F22 (Denim Black, 128 GB)', 'price': '₹12,499', 'rating': '4.3', 'link': '/samsung-galaxy-f22-denim-black-128-gb/p/itm9f921a1b4f96c?pid=MOBG43UGFGYU4K4B&lid=LSTMOBG43UGFGYU4K4B0FR1R0&marketplace=FLIPKART&q=mobiles&store=tyy%2F4io&srno=s_1_7&otracker=search&otracker1=search&fm=organic&iid=3444a8c7-401c-4b4c-9ed0-4b587892149a.MOBG43UGFGYU4K4B.SEARCH&ppt=None&ppn=None&ssid=4utl6ouqio0000001662642844010&qH=eb4af0bf07c16429'}, {'title': 'IAIR D24', 'price': '₹1,128', 'rating': '3.8', 'link': '/iair-d24/p/itmebf306660cf33?pid=MOBG9PVRXGNUWPF5&lid=LSTMOBG9PVRXGNUWPF5Q2XTTZ&marketplace=FLIPKART&q=mobiles&store=tyy%2F4io&srno=s_1_8&otracker=search&otracker1=search&fm=organic&iid=en_6iSa8JdyJXwYHb2bjVK6VIhwXUcR3XFeyy3C22tEwiEHPkfiHoi8LlH9%2BV8mHhvJqhRMjTz6zXMGgoUKe8iu2g%3D%3D&ppt=None&ppn=None&ssid=4utl6ouqio0000001662642844010&qH=eb4af0bf07c16429'}, {'title': 'realme Narzo 50A (Oxygen Green, 64 GB)', 'price': '₹11,499', 'rating': '4.4', 'link': '/realme-narzo-50a-oxygen-green-64-gb/p/itm81d679403c2b4?pid=MOBG6MY4X6JDZMGG&lid=LSTMOBG6MY4X6JDZMGGGKYEYU&marketplace=FLIPKART&q=mobiles&store=tyy%2F4io&srno=s_1_9&otracker=search&otracker1=search&fm=organic&iid=3444a8c7-401c-4b4c-9ed0-4b587892149a.MOBG6MY4X6JDZMGG.SEARCH&ppt=None&ppn=None&ssid=4utl6ouqio0000001662642844010&qH=eb4af0bf07c16429'}, {'title': 'vivo T1X (Gravity Black, 64 GB)', 'price': '₹11,999', 'rating': '4.5', 'link': '/vivo-t1x-gravity-black-64-gb/p/itm9e8207e7825a9?pid=MOBGG56ZMXMNUCYF&lid=LSTMOBGG56ZMXMNUCYFQ5HT8S&marketplace=FLIPKART&q=mobiles&store=tyy%2F4io&srno=s_1_10&otracker=search&otracker1=search&fm=organic&iid=3444a8c7-401c-4b4c-9ed0-4b587892149a.MOBGG56ZMXMNUCYF.SEARCH&ppt=None&ppn=None&ssid=4utl6ouqio0000001662642844010&qH=eb4af0bf07c16429'}, {'title': 'IAIR D40', 'price': '₹1,319', 'rating': '3.9', 'link': '/iair-d40/p/itm253472ba19c6b?pid=MOBGCNZF3VZHZJZR&lid=LSTMOBGCNZF3VZHZJZROV1MTC&marketplace=FLIPKART&q=mobiles&store=tyy%2F4io&srno=s_1_11&otracker=search&otracker1=search&fm=organic&iid=en_6iSa8JdyJXwYHb2bjVK6VIhwXUcR3XFeyy3C22tEwiEa2KL1io1ebBFfIUQb1oHixAZnM4WUT6omXT4VbN%2FcqQ%3D%3D&ppt=None&ppn=None&ssid=4utl6ouqio0000001662642844010&qH=eb4af0bf07c16429'}, {'title': 'IAIR D23', 'price': '₹1,097', 'rating': '4', 'link': '/iair-d23/p/itmfde8fc33dc954?pid=MOBGCNZNZVWYSDGH&lid=LSTMOBGCNZNZVWYSDGH98HP1Z&marketplace=FLIPKART&q=mobiles&store=tyy%2F4io&srno=s_1_12&otracker=search&otracker1=search&fm=organic&iid=en_6iSa8JdyJXwYHb2bjVK6VIhwXUcR3XFeyy3C22tEwiHRbtLw9f4Lh7yntIjR2SP3n1%2FVpZOvmZlARc6%2FWge%2F8A%3D%3D&ppt=None&ppn=None&ssid=4utl6ouqio0000001662642844010&qH=eb4af0bf07c16429'}, {'title': 'vivo T1X (Space Blue, 64 GB)', 'price': '₹11,999', 'rating': '4.5', 'link': '/vivo-t1x-space-blue-64-gb/p/itm9e8207e7825a9?pid=MOBGG56ZFNPMHBWE&lid=LSTMOBGG56ZFNPMHBWEB8Y2U5&marketplace=FLIPKART&q=mobiles&store=tyy%2F4io&srno=s_1_13&otracker=search&otracker1=search&fm=organic&iid=3444a8c7-401c-4b4c-9ed0-4b587892149a.MOBGG56ZFNPMHBWE.SEARCH&ppt=None&ppn=None&ssid=4utl6ouqio0000001662642844010&qH=eb4af0bf07c16429'}, {'title': 'SAMSUNG Galaxy F13 (Waterfall Blue, 64 GB)', 'price': '₹11,999', 'rating': '4.4', 'link': '/samsung-galaxy-f13-waterfall-blue-64-gb/p/itm583ef432b2b0c?pid=MOBGENJWBPFYJSFT&lid=LSTMOBGENJWBPFYJSFT1ZY7B0&marketplace=FLIPKART&q=mobiles&store=tyy%2F4io&srno=s_1_14&otracker=search&otracker1=search&fm=organic&iid=3444a8c7-401c-4b4c-9ed0-4b587892149a.MOBGENJWBPFYJSFT.SEARCH&ppt=None&ppn=None&ssid=4utl6ouqio0000001662642844010&qH=eb4af0bf07c16429'}, {'title': 'realme Narzo 30 5G (Racing Blue, 64 GB)', 'price': '₹14,999', 'rating': '4.3', 'link': '/realme-narzo-30-5g-racing-blue-64-gb/p/itm56837fcb0d6f3?pid=MOBG5D9DHRZUGHVD&lid=LSTMOBG5D9DHRZUGHVDAOKMDF&marketplace=FLIPKART&q=mobiles&store=tyy%2F4io&srno=s_1_15&otracker=search&otracker1=search&fm=organic&iid=3444a8c7-401c-4b4c-9ed0-4b587892149a.MOBG5D9DHRZUGHVD.SEARCH&ppt=None&ppn=None&ssid=4utl6ouqio0000001662642844010&qH=eb4af0bf07c16429'}, {'title': 'REDMI 9i Sport (Coral Green, 64 GB)', 'price': '₹9,049', 'rating': '4.4', 'link': '/redmi-9i-sport-coral-green-64-gb/p/itmb5e8d8186b602?pid=MOBG6WQWJRFZ5WDG&lid=LSTMOBG6WQWJRFZ5WDGO4EIDO&marketplace=FLIPKART&q=mobiles&store=tyy%2F4io&srno=s_1_16&otracker=search&otracker1=search&fm=organic&iid=3444a8c7-401c-4b4c-9ed0-4b587892149a.MOBG6WQWJRFZ5WDG.SEARCH&ppt=None&ppn=None&ssid=4utl6ouqio0000001662642844010&qH=eb4af0bf07c16429'}, {'title': 'realme 8i (Space Purple, 64 GB)', 'price': '₹13,999', 'rating': '4.5', 'link': '/realme-8i-space-purple-64-gb/p/itm7ab6edcb3b2a4?pid=MOBG63YX5KJ6VFDH&lid=LSTMOBG63YX5KJ6VFDH2KWIYU&marketplace=FLIPKART&q=mobiles&store=tyy%2F4io&srno=s_1_17&otracker=search&otracker1=search&fm=organic&iid=3444a8c7-401c-4b4c-9ed0-4b587892149a.MOBG63YX5KJ6VFDH.SEARCH&ppt=None&ppn=None&ssid=4utl6ouqio0000001662642844010&qH=eb4af0bf07c16429'}, {'title': 'IAIR Basic Feature Dual Sim Mobile Phone with 2800mAh Battery, 1.77 inch Display Screen, 0.8 mp Camera...', 'price': '₹1,699', 'rating': '3.8', 'link': '/iair-basic-feature-dual-sim-mobile-phone-2800mah-battery-1-77-inch-display-screen-0-8-mp-camera-big-led-torch-fpd12-red/p/itmcc820fc776838?pid=MOBFVYMBDJM6YRZX&lid=LSTMOBFVYMBDJM6YRZX29FDZ7&marketplace=FLIPKART&q=mobiles&store=tyy%2F4io&srno=s_1_18&otracker=search&otracker1=search&fm=organic&iid=en_6iSa8JdyJXwYHb2bjVK6VIhwXUcR3XFeyy3C22tEwiHCNfBNyD34wEMX%2FROesuVWfPFKl1eHEHyhz3gruLH5vg%3D%3D&ppt=None&ppn=None&ssid=4utl6ouqio0000001662642844010&qH=eb4af0bf07c16429'}, {'title': 'vivo T1 5G (Rainbow Fantasy, 128 GB)', 'price': '₹15,990', 'rating': '4.3', 'link': '/vivo-t1-5g-rainbow-fantasy-128-gb/p/itm594222523bd8f?pid=MOBGB9TYGW5NGXVH&lid=LSTMOBGB9TYGW5NGXVHAMNS12&marketplace=FLIPKART&q=mobiles&store=tyy%2F4io&srno=s_1_20&otracker=search&otracker1=search&fm=organic&iid=3444a8c7-401c-4b4c-9ed0-4b587892149a.MOBGB9TYGW5NGXVH.SEARCH&ppt=None&ppn=None&ssid=4utl6ouqio0000001662642844010&qH=eb4af0bf07c16429'}, {'title': 'IAIR D10', 'price': '₹1,072', 'rating': '4.2', 'link': '/iair-d10/p/itm68a13990b3f15?pid=MOBG7CMFC3KG9P3U&lid=LSTMOBG7CMFC3KG9P3UN9LTGZ&marketplace=FLIPKART&q=mobiles&store=tyy%2F4io&srno=s_1_21&otracker=search&otracker1=search&fm=organic&iid=en_6iSa8JdyJXwYHb2bjVK6VIhwXUcR3XFeyy3C22tEwiEw8u%2FrmyJWKAl9ETrPn13XOHAT7cSatu0Ig7Xav%2BoiMA%3D%3D&ppt=None&ppn=None&ssid=4utl6ouqio0000001662642844010&qH=eb4af0bf07c16429'}, {'title': 'IAIR D41', 'price': '₹1,319', 'rating': '3.7', 'link': '/iair-d41/p/itm0b7495cebc66e?pid=MOBGCNZQMEYADXKH&lid=LSTMOBGCNZQMEYADXKHU6I8G1&marketplace=FLIPKART&q=mobiles&store=tyy%2F4io&srno=s_1_22&otracker=search&otracker1=search&fm=organic&iid=en_6iSa8JdyJXwYHb2bjVK6VIhwXUcR3XFeyy3C22tEwiGcqbQL3LPJ6rGvr3y14rL6X8nKkm%2BcgaKYPsZ6hfpBeg%3D%3D&ppt=None&ppn=None&ssid=4utl6ouqio0000001662642844010&qH=eb4af0bf07c16429'}, {'title': 'realme Narzo 50A (Oxygen Blue, 128 GB)', 'price': '₹12,499', 'rating': '4.4', 'link': '/realme-narzo-50a-oxygen-blue-128-gb/p/itm81d679403c2b4?pid=MOBG6MY4JGHHADW8&lid=LSTMOBG6MY4JGHHADW8QUT1Q3&marketplace=FLIPKART&q=mobiles&store=tyy%2F4io&srno=s_1_23&otracker=search&otracker1=search&fm=organic&iid=3444a8c7-401c-4b4c-9ed0-4b587892149a.MOBG6MY4JGHHADW8.SEARCH&ppt=None&ppn=None&ssid=4utl6ouqio0000001662642844010&qH=eb4af0bf07c16429'}, {'title': 'vivo T1 44W (Starry Sky, 128 GB)', 'price': '₹14,499', 'rating': '4.4', 'link': '/vivo-t1-44w-starry-sky-128-gb/p/itm2a08ebbea3689?pid=MOBGDRHVHNBBBBP5&lid=LSTMOBGDRHVHNBBBBP57SXRTY&marketplace=FLIPKART&q=mobiles&store=tyy%2F4io&srno=s_1_24&otracker=search&otracker1=search&fm=organic&iid=3444a8c7-401c-4b4c-9ed0-4b587892149a.MOBGDRHVHNBBBBP5.SEARCH&ppt=None&ppn=None&ssid=4utl6ouqio0000001662642844010&qH=eb4af0bf07c16429'}]\n"
     ]
    }
   ],
   "source": [
    "print(out)"
   ]
  },
  {
   "cell_type": "code",
   "execution_count": 7,
   "metadata": {},
   "outputs": [
    {
     "name": "stdout",
     "output_type": "stream",
     "text": [
      "                                                title    price rating  \\\n",
      "0             SAMSUNG Galaxy F22 (Denim Black, 64 GB)  ₹10,499    4.3   \n",
      "1              SAMSUNG Galaxy F22 (Denim Blue, 64 GB)  ₹10,499    4.3   \n",
      "2             SAMSUNG Galaxy F22 (Denim Blue, 128 GB)  ₹12,499    4.3   \n",
      "3                                       Good One FLIP   ₹1,399    4.1   \n",
      "4               realme Narzo 50A (Oxygen Blue, 64 GB)  ₹11,499    4.4   \n",
      "5                                        Nokia 105 SS   ₹1,299    4.1   \n",
      "6            SAMSUNG Galaxy F22 (Denim Black, 128 GB)  ₹12,499    4.3   \n",
      "7                                            IAIR D24   ₹1,128    3.8   \n",
      "8              realme Narzo 50A (Oxygen Green, 64 GB)  ₹11,499    4.4   \n",
      "9                     vivo T1X (Gravity Black, 64 GB)  ₹11,999    4.5   \n",
      "10                                           IAIR D40   ₹1,319    3.9   \n",
      "11                                           IAIR D23   ₹1,097      4   \n",
      "12                       vivo T1X (Space Blue, 64 GB)  ₹11,999    4.5   \n",
      "13         SAMSUNG Galaxy F13 (Waterfall Blue, 64 GB)  ₹11,999    4.4   \n",
      "14            realme Narzo 30 5G (Racing Blue, 64 GB)  ₹14,999    4.3   \n",
      "15                REDMI 9i Sport (Coral Green, 64 GB)   ₹9,049    4.4   \n",
      "16                    realme 8i (Space Purple, 64 GB)  ₹13,999    4.5   \n",
      "17  IAIR Basic Feature Dual Sim Mobile Phone with ...   ₹1,699    3.8   \n",
      "18               vivo T1 5G (Rainbow Fantasy, 128 GB)  ₹15,990    4.3   \n",
      "19                                           IAIR D10   ₹1,072    4.2   \n",
      "20                                           IAIR D41   ₹1,319    3.7   \n",
      "21             realme Narzo 50A (Oxygen Blue, 128 GB)  ₹12,499    4.4   \n",
      "22                   vivo T1 44W (Starry Sky, 128 GB)  ₹14,499    4.4   \n",
      "\n",
      "                                                 link  \n",
      "0   /samsung-galaxy-f22-denim-black-64-gb/p/itm6f4...  \n",
      "1   /samsung-galaxy-f22-denim-blue-64-gb/p/itmce0a...  \n",
      "2   /samsung-galaxy-f22-denim-blue-128-gb/p/itm30c...  \n",
      "3   /good-one-flip/p/itma3527071661c8?pid=MOBG9G5H...  \n",
      "4   /realme-narzo-50a-oxygen-blue-64-gb/p/itm81d67...  \n",
      "5   /nokia-105-ss/p/itm9ac157d27f741?pid=MOBGC96FV...  \n",
      "6   /samsung-galaxy-f22-denim-black-128-gb/p/itm9f...  \n",
      "7   /iair-d24/p/itmebf306660cf33?pid=MOBG9PVRXGNUW...  \n",
      "8   /realme-narzo-50a-oxygen-green-64-gb/p/itm81d6...  \n",
      "9   /vivo-t1x-gravity-black-64-gb/p/itm9e8207e7825...  \n",
      "10  /iair-d40/p/itm253472ba19c6b?pid=MOBGCNZF3VZHZ...  \n",
      "11  /iair-d23/p/itmfde8fc33dc954?pid=MOBGCNZNZVWYS...  \n",
      "12  /vivo-t1x-space-blue-64-gb/p/itm9e8207e7825a9?...  \n",
      "13  /samsung-galaxy-f13-waterfall-blue-64-gb/p/itm...  \n",
      "14  /realme-narzo-30-5g-racing-blue-64-gb/p/itm568...  \n",
      "15  /redmi-9i-sport-coral-green-64-gb/p/itmb5e8d81...  \n",
      "16  /realme-8i-space-purple-64-gb/p/itm7ab6edcb3b2...  \n",
      "17  /iair-basic-feature-dual-sim-mobile-phone-2800...  \n",
      "18  /vivo-t1-5g-rainbow-fantasy-128-gb/p/itm594222...  \n",
      "19  /iair-d10/p/itm68a13990b3f15?pid=MOBG7CMFC3KG9...  \n",
      "20  /iair-d41/p/itm0b7495cebc66e?pid=MOBGCNZQMEYAD...  \n",
      "21  /realme-narzo-50a-oxygen-blue-128-gb/p/itm81d6...  \n",
      "22  /vivo-t1-44w-starry-sky-128-gb/p/itm2a08ebbea3...  \n"
     ]
    }
   ],
   "source": [
    "import pandas as pd\n",
    "df = pd.DataFrame(out)\n",
    "print(df)"
   ]
  },
  {
   "cell_type": "code",
   "execution_count": null,
   "metadata": {},
   "outputs": [],
   "source": []
  }
 ],
 "metadata": {
  "kernelspec": {
   "display_name": "Python 3.9.13 ('base')",
   "language": "python",
   "name": "python3"
  },
  "language_info": {
   "codemirror_mode": {
    "name": "ipython",
    "version": 3
   },
   "file_extension": ".py",
   "mimetype": "text/x-python",
   "name": "python",
   "nbconvert_exporter": "python",
   "pygments_lexer": "ipython3",
   "version": "3.9.13"
  },
  "orig_nbformat": 4,
  "vscode": {
   "interpreter": {
    "hash": "02f47f39dd0ee8f21e529f9f6e1f62ff476995be84ab335999cbf3382766c67c"
   }
  }
 },
 "nbformat": 4,
 "nbformat_minor": 2
}
