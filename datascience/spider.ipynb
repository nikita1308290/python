{
 "cells": [
  {
   "cell_type": "code",
   "execution_count": 1,
   "metadata": {},
   "outputs": [],
   "source": [
    "from dputils import scrape"
   ]
  },
  {
   "cell_type": "code",
   "execution_count": 2,
   "metadata": {},
   "outputs": [],
   "source": [
    "soup = scrape.get_webpage_data('https://www.ndtv.com/latest')"
   ]
  },
  {
   "cell_type": "code",
   "execution_count": 3,
   "metadata": {},
   "outputs": [],
   "source": [
    "t = {'tag':'div', 'attrs': {'class' : 'lisingNews'}}\n",
    "items = {'tag':'div','attrs': {'class' : 'news_Itm'}}\n",
    "title = {'tag':'h2', 'attrs': {'class' : 'newsHdng'}}\n",
    "deet = {'tag':'span','attrs':{'class':'posted-by'}}\n",
    "summary = {'tag':'p','attrs':{'class':'newsCont'}}"
   ]
  },
  {
   "cell_type": "code",
   "execution_count": 4,
   "metadata": {},
   "outputs": [
    {
     "name": "stdout",
     "output_type": "stream",
     "text": [
      "17 items found\n",
      "Item skipped at index: 3\n",
      "Item skipped at index: 7\n",
      "All items extracted\n",
      "[{'details': 'Agence France-Presse   | Thursday September 08, 2022',\n",
      "  'summary': 'A Nepali court issued an arrest warrant Thursday for Nepal '\n",
      "             'cricket team captain Sandeep Lamichhane, police said, after a '\n",
      "             '17-year-old girl accused him of rape',\n",
      "  'title': 'Arrest Warrant Issued For Nepal Cricket Captain Over Alleged Rape: '\n",
      "           'Police'},\n",
      " {'details': 'Edited by Arpita Das  | Thursday September 08, 2022',\n",
      "  'summary': 'In the ‘IITD Aab Prahari’ mobile application system, communities '\n",
      "             'and individuals are facilitated to report the real-time '\n",
      "             'incidence of flooding, in and around their surroundings, by '\n",
      "             'capturing the waterlogging information and uploading it to a '\n",
      "             'central server.',\n",
      "  'title': 'IIT Delhi Launches Mobile Application To Facilitate Communities, '\n",
      "           'Individuals'},\n",
      " {'details': 'Written by Sourabh Kulesh , Edited by Richa Sharma  | Thursday '\n",
      "             'September 08, 2022',\n",
      "  'summary': 'iPhone 14 Pro Max and Samsung Galaxy S22 Ultra are compared '\n",
      "             'here. The phones are top-of-the-line offerings from Apple and '\n",
      "             'Samsung, respectively.',\n",
      "  'title': 'iPhone 14 Pro Max vs Samsung Galaxy S22 Ultra: Price in India, '\n",
      "           'Specifications Compared'},\n",
      " {'details': 'Written by Rahul Chettiyar , Edited by Akhil Arora,David Delima  '\n",
      "             '| Thursday September 08, 2022',\n",
      "  'summary': 'Aar Ya Paar, a new Hotstar Specials, just got a first-look '\n",
      "             'trailer. Aditya Rawal leads the cast in this Disney+ Hotstar '\n",
      "             'series, as a tribe member turned hitman, who hunts down esteemed '\n",
      "             'targets. The series also stars Sumeet Vyas, Patralekhaa, Ashish '\n",
      "             'Vidyarthi, and Shilpa Shukla. Aar Ya Paar does not have a '\n",
      "             'release date yet.',\n",
      "  'title': 'Aar Ya Paar Teaser Trailer: Hotstar Series Follows a Tribal Man '\n",
      "           'Turned Hitman'},\n",
      " {'details': 'Reuters   | Thursday September 08, 2022, London',\n",
      "  'summary': \"Britain's Prince Charles and Prince William have travelled to \"\n",
      "             \"Queen Elizabeth's residence at Balmoral Castle in Scotland \"\n",
      "             'following news that doctors were concerned for her health.',\n",
      "  'title': 'Prince Charles, Prince William Head To Scotland To Be With Queen '\n",
      "           'Elizabeth'},\n",
      " {'details': 'Reuters   | Thursday September 08, 2022, London',\n",
      "  'summary': 'Prince Charles, the heir to the British throne, is now with '\n",
      "             'Queen Elizabeth after she was placed under medical supervision, '\n",
      "             'the BBC reported on Thursday.',\n",
      "  'title': \"Britain's Prince Charles Now With Queen Elizabeth: Report\"},\n",
      " {'details': 'Written by Dhruv Raghav , Edited by David Delima  | Thursday '\n",
      "             'September 08, 2022',\n",
      "  'summary': 'Sony’s Xperia has announced that the company will host its ‘Born '\n",
      "             'To Game’ event on September 12 at 1pm Japan Standard Time '\n",
      "             '(9:30am IST). During the event, the company will unveil a '\n",
      "             'product designed for professional gamers and streamers. Sony is '\n",
      "             'yet to reveal whether it will be a gaming smartphone or an '\n",
      "             'accessory.',\n",
      "  'title': 'Sony Xperia Set to Launch Product Aimed at Pro Gamers, Streamers '\n",
      "           'at ‘Born To Game’ Event on September 12'},\n",
      " {'details': 'Agence France-Presse   | Thursday September 08, 2022',\n",
      "  'summary': 'Top-ranked New Zealand collapsed to 82 all out in the face of '\n",
      "             'scintillating bowling Thursday as Australia won the second '\n",
      "             'one-day international by 113 runs to seal the Chappell-Hadlee '\n",
      "             'series in Cairns',\n",
      "  'title': 'New Zealand Out For 82 As Australia Win 2nd ODI And Series'},\n",
      " {'details': 'Asian News International   | Thursday September 08, 2022, New '\n",
      "             'Delhi',\n",
      "  'summary': 'The Supreme Court on Thursday said that there is no comparison '\n",
      "             'between Kirpan and the turban of Sikhs with the hijab as a '\n",
      "             'five-judge bench of the Supreme Court held that wearing a turban '\n",
      "             'and kirpan is allowed for Sikhs.',\n",
      "  'title': \"Don't Compare Sikh Turban, Kirpan With Hijab, Says Supreme Court: \"\n",
      "           'Report'},\n",
      " {'details': 'Thursday September 08, 2022',\n",
      "  'summary': 'Arsenal get their UEFA Europa League campaign underway with a '\n",
      "             'trip to face FC Zurich at the AFG Arena',\n",
      "  'title': 'FC Zurich vs Arsenal, Europa League: When And Where To Live '\n",
      "           'Telecast, Live Streaming'},\n",
      " {'details': 'Written by Niharika Sanjeeiv  | Thursday September 08, 2022, New '\n",
      "             'Delhi',\n",
      "  'summary': 'Ranbir Kapoor and Ayan Mukerji also met Sonu Sood in the pandal',\n",
      "  'title': 'Ahead of Brahmastra Release, Ranbir Kapoor And Ayan Mukerji Visit '\n",
      "           'Lalbaugcha Raja'},\n",
      " {'details': 'Written by Nithya P Nair , Edited by Siddharth Suvarna  | '\n",
      "             'Thursday September 08, 2022',\n",
      "  'summary': \"Lava is gearing up to launch a new smartphone in the company's \"\n",
      "             'home market. The smartphone brand on Wednesday teased the '\n",
      "             'arrival of a new smartphone on Twitter without confirming the '\n",
      "             'exact moniker. Lava Blaze Pro is expected to arrive as the '\n",
      "             'latest offering. It is tipped to feature 50-megapixel triple '\n",
      "             'rear cameras and a 5,000mAh battery.',\n",
      "  'title': 'Lava Blaze Pro May Launch Soon, Tipped to Feature 50-Megapixel '\n",
      "           'Triple Rear Cameras'},\n",
      " {'details': 'Press Trust of India   | Thursday September 08, 2022, Mumbai',\n",
      "  'summary': 'Even as the economic recovery gains momentum, dwindling wage '\n",
      "             'growth is emerging as a bigger worry as this leads to tepid '\n",
      "             'demand and resultant under-utilisation of capacity, further '\n",
      "             'elongating the already-large output gap, according to a report.',\n",
      "  'title': 'Dwindling Wage Growth Emerging As Bigger Worry: Report'},\n",
      " {'details': 'Edited by Nikhil Pandey  | Thursday September 08, 2022',\n",
      "  'summary': \"US man Scott Snyder who played the Michigan Lottery's Lucky For \"\n",
      "             'Life game and won $25,000 a year for life saw quick financial '\n",
      "             'success thanks to a unique set of numbers.',\n",
      "  'title': \"US Man Wins $25,000 A Year For Life From 'Lucky For Life' Lottery\"},\n",
      " {'details': 'Written by Adarsh Srivastava  | Thursday September 08, 2022',\n",
      "  'summary': 'The Central Board of Secondary Education (CBSE) will declare the '\n",
      "             'Class 10 compartment result 2022 soon. Students can check and '\n",
      "             'download their CBSE 10th compartment result from the official '\n",
      "             'website.',\n",
      "  'title': 'CBSE 10th Compartment Result 2022 Soon; List Of Websites To '\n",
      "           'Download Marksheet'}]\n"
     ]
    }
   ],
   "source": [
    "result = scrape.extract_many(soup, target=t, items=items, title=title, details=deet, summary=summary)\n",
    "from pprint import pprint\n",
    "pprint(result)"
   ]
  },
  {
   "cell_type": "code",
   "execution_count": null,
   "metadata": {},
   "outputs": [],
   "source": []
  }
 ],
 "metadata": {
  "kernelspec": {
   "display_name": "Python 3.9.13 ('base')",
   "language": "python",
   "name": "python3"
  },
  "language_info": {
   "codemirror_mode": {
    "name": "ipython",
    "version": 3
   },
   "file_extension": ".py",
   "mimetype": "text/x-python",
   "name": "python",
   "nbconvert_exporter": "python",
   "pygments_lexer": "ipython3",
   "version": "3.9.13"
  },
  "orig_nbformat": 4,
  "vscode": {
   "interpreter": {
    "hash": "02f47f39dd0ee8f21e529f9f6e1f62ff476995be84ab335999cbf3382766c67c"
   }
  }
 },
 "nbformat": 4,
 "nbformat_minor": 2
}
