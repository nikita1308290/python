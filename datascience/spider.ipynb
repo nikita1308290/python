{
 "cells": [
  {
   "cell_type": "code",
   "execution_count": 1,
   "metadata": {},
   "outputs": [],
   "source": [
    "from dputils import scrape"
   ]
  },
  {
   "cell_type": "code",
   "execution_count": 2,
   "metadata": {},
   "outputs": [
    {
     "name": "stderr",
     "output_type": "stream",
     "text": [
      "Error occurred during loading data. Trying to use cache server https://fake-useragent.herokuapp.com/browsers/0.1.11\n",
      "Traceback (most recent call last):\n",
      "  File \"c:\\Users\\Asus\\miniconda3\\lib\\site-packages\\fake_useragent\\utils.py\", line 154, in load\n",
      "    for item in get_browsers(verify_ssl=verify_ssl):\n",
      "  File \"c:\\Users\\Asus\\miniconda3\\lib\\site-packages\\fake_useragent\\utils.py\", line 99, in get_browsers\n",
      "    html = html.split('<table class=\"w3-table-all notranslate\">')[1]\n",
      "IndexError: list index out of range\n"
     ]
    }
   ],
   "source": [
    "soup = scrape.get_webpage_data('https://www.ndtv.com/latest')"
   ]
  },
  {
   "cell_type": "code",
   "execution_count": 3,
   "metadata": {},
   "outputs": [],
   "source": [
    "t = {'tag':'div', 'attrs': {'class' : 'lisingNews'}}\n",
    "items = {'tag':'div','attrs': {'class' : 'news_Itm'}}\n",
    "title = {'tag':'h2', 'attrs': {'class' : 'newsHdng'}}\n",
    "deet = {'tag':'span','attrs':{'class':'posted-by'}}\n",
    "summary = {'tag':'p','attrs':{'class':'newsCont'}}"
   ]
  },
  {
   "cell_type": "code",
   "execution_count": 4,
   "metadata": {},
   "outputs": [
    {
     "name": "stdout",
     "output_type": "stream",
     "text": [
      "17 items found\n",
      "Item skipped at index: 3\n",
      "Item skipped at index: 7\n",
      "All items extracted\n",
      "[{'details': 'Press Trust of India   | Wednesday September 07, 2022, United '\n",
      "             'Nations',\n",
      "  'summary': 'India has voiced appreciation for the recent visit by a team '\n",
      "             'from International Atomic Energy Agency (IAEA) to the '\n",
      "             'Zaporizhzhia Nuclear Power Plant in Ukraine.',\n",
      "  'title': \"Appreciate UN Atomic Watchdog's Visit To Ukraine Nuclear Plant: \"\n",
      "           'India'},\n",
      " {'details': 'Agence France-Presse   | Wednesday September 07, 2022, United '\n",
      "             'Nations',\n",
      "  'summary': 'Full gender equality will take almost 300 years to achieve at '\n",
      "             'the current rate of progress, the United Nations warned in a '\n",
      "             'report released Wednesday',\n",
      "  'title': 'Full Gender Equality Still 300 Years Away At Current Rate: UN '\n",
      "           'Report'},\n",
      " {'details': 'Press Trust of India   | Wednesday September 07, 2022, New Delhi',\n",
      "  'summary': 'The traffic police have made arrangements to ensure smooth '\n",
      "             'vehicular movement in central Delhi where restrictions have been '\n",
      "             'imposed for Thursday when Prime Minister Narendra Modi will '\n",
      "             'inaugurate the newly-christened Kartavya Path.',\n",
      "  'title': 'Inauguration Of Kartavya Path: Delhi Police Advisory On Routes To '\n",
      "           'Avoid'},\n",
      " {'details': 'Press Trust of India   | Wednesday September 07, 2022, New Delhi',\n",
      "  'summary': 'Delhi Lieutenant Governor V K Saxena misappropriated crores of '\n",
      "             'rupees making payments to \"ghost artisans\" when he was the '\n",
      "             'chairman of the KVIC, AAP MP Sanjay Singh claimed on Wednesday.',\n",
      "  'title': 'Delhi Lt Governor VK Saxena Paid \"Ghost Artisans\", Made Crores, '\n",
      "           'Claims AAP'},\n",
      " {'details': 'Press Trust of India   | Wednesday September 07, 2022, '\n",
      "             'Kanyakumari, Tamil Nadu',\n",
      "  'summary': 'Congress leader Rahul Gandhi today said India is heading towards '\n",
      "             'a \"disaster\", alleging that a handful of large businesses are '\n",
      "             'controlling the country with the help of PM Modi.',\n",
      "  'title': '\"Today, India Faces Its Worst-Ever Economic Crisis\", Says Rahul '\n",
      "           'Gandhi'},\n",
      " {'details': 'Press Trust of India   | Wednesday September 07, 2022, New Delhi',\n",
      "  'summary': 'The Mansa Police arrested a man from Jodhpur for allegedly '\n",
      "             \"sending a death threat to Punjabi singer Siddu Moosewala's \"\n",
      "             'father, Balkour Singh Sidhu, said the officials on Wednesday.',\n",
      "  'title': \"Sidhu Moosewala's Father Gets Death Threat, 1 Arrested From \"\n",
      "           'Rajasthan'},\n",
      " {'details': 'Written by Jyothi Jha  | Wednesday September 07, 2022, New Delhi',\n",
      "  'summary': 'Alia Bhatt is waiting for the release of Brahmastra',\n",
      "  'title': \"New Post From Mom-To-Be Alia Bhatt's Maternity Diaries\"},\n",
      " {'details': 'Press Trust of India   | Wednesday September 07, 2022, New Delhi',\n",
      "  'summary': 'Mere possession of stolen goods is not enough to make it a '\n",
      "             'culpable offence and the prosecution is required to prove the '\n",
      "             'accused had the knowledge that it was a stolen property, the '\n",
      "             'Supreme Court said on Wednesday.',\n",
      "  'title': 'Mere Possession Of Stolen Goods Not Culpable Offence: Supreme '\n",
      "           'Court'},\n",
      " {'details': 'Agence France-Presse   | Wednesday September 07, 2022, London',\n",
      "  'summary': 'At her first parliamentary grilling as British prime minister, '\n",
      "             'Liz Truss on Wednesday confirmed plans to stem huge rises in the '\n",
      "             'cost of energy that threaten to plunge her new government into a '\n",
      "             'winter of discontent.',\n",
      "  'title': 'New UK PM Liz Truss Promises Imminent Action On Energy Crisis'},\n",
      " {'details': 'Reported by Mukesh Singh Sengar, Edited by Arundhati Jain  | '\n",
      "             'Wednesday September 07, 2022, New Delhi',\n",
      "  'summary': 'Three people were electrocuted after coming in contact with a '\n",
      "             'live wire in Delhi today. The incident happened in a banquet '\n",
      "             \"hall around 10 am in northwest Delhi's Bawana.\",\n",
      "  'title': '3 Men Trimming Tree Electrocuted After Trolley Touches Live Wire '\n",
      "           'In Delhi'},\n",
      " {'details': 'Edited by Bhavya Sukheja  | Wednesday September 07, 2022',\n",
      "  'summary': 'Dance videos go viral the most on social media these days. Now, '\n",
      "             \"a video showing a Sikh man performing bhangra at New York's Time \"\n",
      "             'Square has taken the internet by storm.',\n",
      "  'title': \"Watch: Man Performs Bhangra At New York's Times Square And \"\n",
      "           'Internet Loves It'},\n",
      " {'details': 'Reported by Press Trust of India | Wednesday September 07, 2022',\n",
      "  'summary': 'The state cabinet, which met here on Wednesday under the '\n",
      "             'chairmanship of Chief Minister Y S Jagan Mohan Reddy, approved '\n",
      "             'the proposal for distribution of Tabs.',\n",
      "  'title': 'Andhra Pradesh: Class 8 Students, Teachers In Government Schools '\n",
      "           'To Get Tablet PCs'},\n",
      " {'details': 'Agence France-Presse   | Wednesday September 07, 2022, Geneva',\n",
      "  'summary': 'Nasal Covid-19 vaccines could help to bring the Covid-19 '\n",
      "             'pandemic under control, the World Health Organization said '\n",
      "             'Wednesday after homegrown products were approved in India and '\n",
      "             'China.',\n",
      "  'title': 'Nasal Vaccines Could Be Beneficial In Controlling Covid: WHO'},\n",
      " {'details': 'Reuters   | Wednesday September 07, 2022, Kyiv',\n",
      "  'summary': 'Ukraine on Wednesday called for the residents of '\n",
      "             'Russian-occupied areas around the Zaporizhzhia nuclear power '\n",
      "             'plant to evacuate for their own safety.',\n",
      "  'title': 'Ukraine Urges For Evacuation Of Zaporizhzhia Nuclear Plant Town'},\n",
      " {'details': 'Press Trust of India   | Wednesday September 07, 2022, New Delhi',\n",
      "  'summary': 'The tenure of the Enforcement Directorate (ED) chief has been '\n",
      "             'extended in public interest as various cases are at a crucial '\n",
      "             'juncture, the Centre has told the Supreme Court.',\n",
      "  'title': 'What Centre Told Supreme Court On Extension Of Probe Agency '\n",
      "           \"Chief's Term\"}]\n"
     ]
    }
   ],
   "source": [
    "result = scrape.extract_many(soup, target=t, items=items, title=title, details=deet, summary=summary)\n",
    "from pprint import pprint\n",
    "pprint(result)"
   ]
  },
  {
   "cell_type": "code",
   "execution_count": null,
   "metadata": {},
   "outputs": [],
   "source": []
  }
 ],
 "metadata": {
  "kernelspec": {
   "display_name": "Python 3.9.13 ('base')",
   "language": "python",
   "name": "python3"
  },
  "language_info": {
   "codemirror_mode": {
    "name": "ipython",
    "version": 3
   },
   "file_extension": ".py",
   "mimetype": "text/x-python",
   "name": "python",
   "nbconvert_exporter": "python",
   "pygments_lexer": "ipython3",
   "version": "3.9.13"
  },
  "orig_nbformat": 4,
  "vscode": {
   "interpreter": {
    "hash": "02f47f39dd0ee8f21e529f9f6e1f62ff476995be84ab335999cbf3382766c67c"
   }
  }
 },
 "nbformat": 4,
 "nbformat_minor": 2
}
